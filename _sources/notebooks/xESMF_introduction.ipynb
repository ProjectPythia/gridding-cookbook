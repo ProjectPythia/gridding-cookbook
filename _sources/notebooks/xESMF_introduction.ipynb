{
 "cells": [
  {
   "cell_type": "markdown",
   "metadata": {
    "id": "DWxM9siXe38m"
   },
   "source": [
    "# xESMF Demo using SEVIER dataset for Machine Learning Preperation"
   ]
  },
  {
   "cell_type": "markdown",
   "metadata": {},
   "source": [
    "Thomas Martin @ThomasMGeo\n",
    "\n",
    "Sept 2 - 2022"
   ]
  },
  {
   "cell_type": "markdown",
   "metadata": {},
   "source": [
    "### Overview"
   ]
  },
  {
   "cell_type": "markdown",
   "metadata": {
    "id": "M_s46yxNe8TC"
   },
   "source": [
    "This is a quick (~20 minute) notebook that will cover how to use xESMF to regrid with xarray on a dataset. This notebooks will heavily borrow from this repo: https://github.com/ai2es/WAF_ML_Tutorial_Part1 & this paper https://proceedings.neurips.cc/paper/2020/file/fa78a16157fed00d7a80515818432169-Paper.pdf . Randy Chase (@dopplershift on github) is thanked for dataset prep and previous work! "
   ]
  },
  {
   "cell_type": "markdown",
   "metadata": {},
   "source": [
    "### Prerequisits"
   ]
  },
  {
   "cell_type": "markdown",
   "metadata": {},
   "source": [
    "Working knowldge of xarray, matplotlib, and numpy is beneficial. This is not designed to be an introduction to any of those packages. "
   ]
  },
  {
   "cell_type": "markdown",
   "metadata": {
    "id": "BC5Db4_mfjsI"
   },
   "source": [
    "## Imports"
   ]
  },
  {
   "cell_type": "code",
   "execution_count": null,
   "metadata": {
    "id": "a4esbJjUePi7"
   },
   "outputs": [],
   "source": [
    "import numpy as np\n",
    "import xarray as xr\n",
    "import xesmf as xe\n",
    "\n",
    "# Plotting utilities\n",
    "import seaborn as sns\n",
    "import matplotlib.pyplot as plt"
   ]
  },
  {
   "cell_type": "markdown",
   "metadata": {},
   "source": [
    "Watermark is great repo to track versions when sharing work with notebooks. xESMF can be a little tricky to install, highly reccomend to install via conda instread of pip. "
   ]
  },
  {
   "cell_type": "code",
   "execution_count": null,
   "metadata": {},
   "outputs": [],
   "source": [
    "%load_ext watermark\n",
    "%watermark --iversions"
   ]
  },
  {
   "cell_type": "markdown",
   "metadata": {
    "id": "5ylM726dgMcP"
   },
   "source": [
    "#### Dataset Load"
   ]
  },
  {
   "cell_type": "code",
   "execution_count": null,
   "metadata": {
    "id": "hIhLjUO_g5Sz"
   },
   "outputs": [],
   "source": [
    "file = '../data/onestorm.nc' # netcdf file"
   ]
  },
  {
   "cell_type": "code",
   "execution_count": null,
   "metadata": {
    "colab": {
     "base_uri": "https://localhost:8080/",
     "height": 883
    },
    "id": "AQD-BdoggNj_",
    "outputId": "cd6702c0-5aec-4633-e230-4b512a0f8c2f"
   },
   "outputs": [],
   "source": [
    "#open an example storm \n",
    "ds = xr.open_dataset(file)\n",
    "#see the data by printing ds. By putting at the bottom of the cell, it is automatically printed\n",
    "ds"
   ]
  },
  {
   "cell_type": "markdown",
   "metadata": {
    "id": "4feF6dMMh41F"
   },
   "source": [
    "We will be using this single dataset for the entirety of the notebook"
   ]
  },
  {
   "cell_type": "code",
   "execution_count": null,
   "metadata": {
    "colab": {
     "base_uri": "https://localhost:8080/",
     "height": 585
    },
    "id": "6ukngesUhYva",
    "outputId": "0afb03fc-277a-4beb-ca04-ceae8d06d6ad"
   },
   "outputs": [],
   "source": [
    "plt.figure(figsize=(9,6))\n",
    "#show all x pixels (:) and all y pixels (:) and the first time step, with a Grey colorscale, and the color min 0 and color max 1. \n",
    "plt.imshow(ds.visible.isel(t=0)[:,:]*1e-4,cmap='Greys_r',vmin=0,vmax=1) # At timestep 0\n",
    "\n",
    "#show us the colorbar \n",
    "plt.colorbar(label='Visible Reflectance Factor')\n",
    "#a function that cleans some of the figure up. \n",
    "plt.tight_layout()"
   ]
  },
  {
   "cell_type": "markdown",
   "metadata": {
    "id": "T1lW7Wl6mW6K"
   },
   "source": [
    "Let's Zoom in one one patch, to gain some intuition on how satellite data is used in Machine Learning (ML)"
   ]
  },
  {
   "cell_type": "code",
   "execution_count": null,
   "metadata": {
    "id": "NWOrOvIbnn8p"
   },
   "outputs": [],
   "source": [
    "# Bounds on Zoom box\n",
    "xmin = 278\n",
    "xmax = 288\n",
    "\n",
    "ymin= 278\n",
    "ymax= 288"
   ]
  },
  {
   "cell_type": "code",
   "execution_count": null,
   "metadata": {
    "colab": {
     "base_uri": "https://localhost:8080/",
     "height": 613
    },
    "id": "MT6r9PnhkVT6",
    "outputId": "9acb07e8-e1e2-4a11-bf8d-e47a96be1ba8"
   },
   "outputs": [],
   "source": [
    "plt.figure(figsize=(10,9))\n",
    "#show all x pixels (:) and all y pixels (:) and the first time step, with a blue colorscale, and the color min 0 and color max 1. \n",
    "\n",
    "sns.heatmap(ds.visible[xmin:xmax,ymin:ymax,0]*1e-4, \n",
    "            cmap=\"Blues\", \n",
    "            annot=True, \n",
    "            annot_kws={\"size\": 11}, # font size\n",
    "            vmin=0, \n",
    "            vmax=1) \n",
    "\n",
    "plt.show()\n",
    "plt.tight_layout()"
   ]
  },
  {
   "cell_type": "markdown",
   "metadata": {},
   "source": [
    "Let's check out a small section of the lightning strike data:"
   ]
  },
  {
   "cell_type": "code",
   "execution_count": null,
   "metadata": {
    "colab": {
     "base_uri": "https://localhost:8080/",
     "height": 613
    },
    "id": "gfxNB5DM4Q1X",
    "outputId": "0ed487fa-fae5-4f33-b11f-5607e3081a18"
   },
   "outputs": [],
   "source": [
    "plt.figure(figsize=(6,5))\n",
    "sns.heatmap(ds.lightning_flashes.isel(t=0)[3:9,3:9], \n",
    "            cmap=\"Blues\", \n",
    "            annot=True, \n",
    "            annot_kws={\"size\": 11}) # font size\n",
    "\n",
    "plt.show()\n",
    "plt.tight_layout()"
   ]
  },
  {
   "cell_type": "markdown",
   "metadata": {
    "id": "ADiXFhu_6oEd"
   },
   "source": [
    "After reviewing the dataset, some of the variables have different shapes:"
   ]
  },
  {
   "cell_type": "code",
   "execution_count": null,
   "metadata": {
    "colab": {
     "base_uri": "https://localhost:8080/"
    },
    "id": "ShU3b7pY6uH7",
    "outputId": "26c05396-f671-46f0-adc7-fa17620531e1"
   },
   "outputs": [],
   "source": [
    "print(ds.visible.shape) # x, y, time\n",
    "print(ds.lightning_flashes.shape) "
   ]
  },
  {
   "cell_type": "markdown",
   "metadata": {},
   "source": [
    "# Using xESMF to regrid an xarray dataset:"
   ]
  },
  {
   "cell_type": "markdown",
   "metadata": {},
   "source": [
    "Information available here: https://xesmf.readthedocs.io/en/latest/notebooks/Rectilinear_grid.html"
   ]
  },
  {
   "cell_type": "markdown",
   "metadata": {},
   "source": [
    "In order to re-grid, let's set up some coordinates. Lets do some sanity checking to check what the axises needs to be divided by:"
   ]
  },
  {
   "cell_type": "code",
   "execution_count": null,
   "metadata": {
    "colab": {
     "base_uri": "https://localhost:8080/"
    },
    "id": "Sgii-aHv7pHt",
    "outputId": "16fd47f4-8cf7-4db6-e693-76d2f5f0b69b"
   },
   "outputs": [],
   "source": [
    "# Why 47 and not 48? The range for x4 is 0 to 47 (48 steps). If you divide by 48, it will be longer by ~1 in each dimmension\n",
    "np.shape(ds.visible.values)[0]/47 # for both x & y, this number does not need to be an integer "
   ]
  },
  {
   "cell_type": "code",
   "execution_count": null,
   "metadata": {},
   "outputs": [],
   "source": [
    "scaling_factor = np.shape(ds.lightning_flashes.values)\n",
    "\n",
    "ds2 = ds.assign_coords(x4=ds.x4, y4=ds.y4, \n",
    "                        x=ds.x/16.3404, y=ds.y/16.340425, # make the coordinates match\n",
    "                        time=ds.t) # making it a new dataset\n",
    "ds2"
   ]
  },
  {
   "cell_type": "markdown",
   "metadata": {},
   "source": [
    "## Decreasing visible resoultion to lighting resoultion"
   ]
  },
  {
   "cell_type": "markdown",
   "metadata": {},
   "source": [
    "#### Making new datasets, this might not be required."
   ]
  },
  {
   "cell_type": "code",
   "execution_count": null,
   "metadata": {},
   "outputs": [],
   "source": [
    "ds_visible = ds2[\"visible\"].to_dataset()\n",
    "ds_visible = ds_visible.rename({'x': 'lon','y': 'lat'})\n",
    "ds_visible"
   ]
  },
  {
   "cell_type": "code",
   "execution_count": null,
   "metadata": {},
   "outputs": [],
   "source": [
    "ds_lf = ds2[\"lightning_flashes\"].to_dataset()\n",
    "ds_lf = ds_lf.rename({'x4': 'lon',\n",
    "                      'y4': 'lat'})\n",
    "ds_lf "
   ]
  },
  {
   "cell_type": "code",
   "execution_count": null,
   "metadata": {},
   "outputs": [],
   "source": [
    "regridder = xe.Regridder(ds_visible, ds_lf, \"bilinear\")\n",
    "regridder  # print basic regridder information."
   ]
  },
  {
   "cell_type": "code",
   "execution_count": null,
   "metadata": {},
   "outputs": [],
   "source": [
    "dr_out = regridder(ds_visible)\n",
    "dr_out"
   ]
  },
  {
   "cell_type": "markdown",
   "metadata": {},
   "source": [
    "### Direct Comparison"
   ]
  },
  {
   "cell_type": "markdown",
   "metadata": {},
   "source": [
    "Note the difference in x & y axis"
   ]
  },
  {
   "cell_type": "code",
   "execution_count": null,
   "metadata": {},
   "outputs": [],
   "source": [
    "time_step = 0\n",
    "\n",
    "f, (ax1, ax2) = plt.subplots(1, 2, sharey=False, figsize=(8,8))\n",
    "# Original figure\n",
    "ax1.imshow(ds.visible.isel(t=time_step)[:,:]*1e-4,cmap='Greys_r',vmin=0,vmax=1) # the x and y axis were flipped, added the .T to fix the plot\n",
    "ax1.title.set_text('Original')\n",
    "\n",
    "ax2.imshow(dr_out.visible.isel(t=time_step)[:,:].T*1e-4,cmap='Greys_r',vmin=0,vmax=1) \n",
    "ax2.title.set_text('Downscaled - Bilinear')"
   ]
  },
  {
   "cell_type": "markdown",
   "metadata": {},
   "source": [
    "## We can also upscale low-resoultion data"
   ]
  },
  {
   "cell_type": "markdown",
   "metadata": {},
   "source": [
    "Note: This is not a reccomendation to do this for every workflow/dataset! There are five different algorithms that you can use, here is a nice comparison: https://xesmf.readthedocs.io/en/latest/notebooks/Compare_algorithms.html"
   ]
  },
  {
   "cell_type": "code",
   "execution_count": null,
   "metadata": {},
   "outputs": [],
   "source": [
    "regridder_up_con = xe.Regridder(ds_lf, ds_visible, \"conservative\") #note different method from before\n",
    "regridder_up_patch = xe.Regridder(ds_lf, ds_visible, \"patch\") \n",
    "regridder_up_patch  # print basic regridder information."
   ]
  },
  {
   "cell_type": "code",
   "execution_count": null,
   "metadata": {},
   "outputs": [],
   "source": [
    "upscaled_lf_con = regridder_up_con(ds_lf)\n",
    "upscaled_lf_patch = regridder_up_patch(ds_lf)"
   ]
  },
  {
   "cell_type": "code",
   "execution_count": null,
   "metadata": {},
   "outputs": [],
   "source": [
    "f, (ax1, ax2, ax3) = plt.subplots(1, 3, sharey=False, figsize=(10,4))\n",
    "\n",
    "# Original Dataset\n",
    "ax1.imshow(ds.lightning_flashes.isel(t=0)[:,:],cmap='GnBu')\n",
    "ax1.title.set_text('Original')\n",
    "\n",
    "\n",
    "ax2.imshow(upscaled_lf_con.lightning_flashes.isel(t=0)[:,:].T, cmap='GnBu')\n",
    "ax2.title.set_text('Upscaled - Conservative')\n",
    "\n",
    "ax3.imshow(upscaled_lf_patch.lightning_flashes.isel(t=0)[:,:].T, cmap='GnBu')\n",
    "ax3.title.set_text('Upscaled - Patch')"
   ]
  },
  {
   "cell_type": "markdown",
   "metadata": {},
   "source": [
    "# Merging Xarray Datasets"
   ]
  },
  {
   "cell_type": "markdown",
   "metadata": {},
   "source": [
    "After you have made a new grid, you will want to combine them into a new xarray dataset for future analysis. Here is an example using combine by coords:"
   ]
  },
  {
   "cell_type": "code",
   "execution_count": null,
   "metadata": {},
   "outputs": [],
   "source": [
    "upscaled_lf_patch"
   ]
  },
  {
   "cell_type": "code",
   "execution_count": null,
   "metadata": {},
   "outputs": [],
   "source": [
    "ds_visible"
   ]
  },
  {
   "cell_type": "code",
   "execution_count": null,
   "metadata": {},
   "outputs": [],
   "source": [
    "new_dataset = xr.combine_by_coords([upscaled_lf_patch, ds_visible])\n",
    "new_dataset"
   ]
  },
  {
   "cell_type": "markdown",
   "metadata": {},
   "source": [
    "## Summary"
   ]
  },
  {
   "cell_type": "markdown",
   "metadata": {},
   "source": [
    "This has been a quick introduction to useing the xESMF regridding tools! The documentation for xESMF & xarray are very helpful for future learning."
   ]
  }
 ],
 "metadata": {
  "colab": {
   "provenance": []
  },
  "kernelspec": {
   "display_name": "Python 3 (ipykernel)",
   "language": "python",
   "name": "python3"
  },
  "language_info": {
   "codemirror_mode": {
    "name": "ipython",
    "version": 3
   },
   "file_extension": ".py",
   "mimetype": "text/x-python",
   "name": "python",
   "nbconvert_exporter": "python",
   "pygments_lexer": "ipython3",
   "version": "3.11.0"
  },
  "vscode": {
   "interpreter": {
    "hash": "3538842ee661b57f24cfeaeb491ecfd345bd2dd43fab6b8744c56a63a0fbbd62"
   }
  }
 },
 "nbformat": 4,
 "nbformat_minor": 1
}
